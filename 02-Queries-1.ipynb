{
 "cells": [
  {
   "attachments": {},
   "cell_type": "markdown",
   "metadata": {},
   "source": [
    "### 02 Queries, Take 1\n",
    "\n",
    "Add more descriptive title and summary later."
   ]
  },
  {
   "cell_type": "code",
   "execution_count": 8,
   "metadata": {},
   "outputs": [],
   "source": [
    "import sqlite3"
   ]
  },
  {
   "cell_type": "code",
   "execution_count": 9,
   "metadata": {},
   "outputs": [
    {
     "name": "stdout",
     "output_type": "stream",
     "text": [
      "The sql extension is already loaded. To reload it, use:\n",
      "  %reload_ext sql\n"
     ]
    }
   ],
   "source": [
    "%load_ext sql\n",
    "%sql sqlite:///nyc_inspections.db"
   ]
  },
  {
   "attachments": {},
   "cell_type": "markdown",
   "metadata": {},
   "source": [
    "Before diving too deep, let's explore the base tables in the database to see any missing or out of place values."
   ]
  },
  {
   "cell_type": "code",
   "execution_count": 10,
   "metadata": {},
   "outputs": [
    {
     "name": "stdout",
     "output_type": "stream",
     "text": [
      " * sqlite:///nyc_inspections.db\n",
      "Done.\n"
     ]
    },
    {
     "data": {
      "text/html": [
       "<table>\n",
       "    <thead>\n",
       "        <tr>\n",
       "            <th>BORO</th>\n",
       "            <th>n_restaurants</th>\n",
       "        </tr>\n",
       "    </thead>\n",
       "    <tbody>\n",
       "        <tr>\n",
       "            <td>0</td>\n",
       "            <td>78</td>\n",
       "        </tr>\n",
       "        <tr>\n",
       "            <td>Bronx</td>\n",
       "            <td>19620</td>\n",
       "        </tr>\n",
       "        <tr>\n",
       "            <td>Brooklyn</td>\n",
       "            <td>55205</td>\n",
       "        </tr>\n",
       "        <tr>\n",
       "            <td>Manhattan</td>\n",
       "            <td>77600</td>\n",
       "        </tr>\n",
       "        <tr>\n",
       "            <td>Queens</td>\n",
       "            <td>48972</td>\n",
       "        </tr>\n",
       "    </tbody>\n",
       "</table>"
      ],
      "text/plain": [
       "[('0', 78),\n",
       " ('Bronx', 19620),\n",
       " ('Brooklyn', 55205),\n",
       " ('Manhattan', 77600),\n",
       " ('Queens', 48972)]"
      ]
     },
     "execution_count": 10,
     "metadata": {},
     "output_type": "execute_result"
    }
   ],
   "source": [
    "%%sql\n",
    "SELECT boro, COUNT(camis) AS n_restaurants FROM restaurants\n",
    "GROUP BY boro\n",
    "LIMIT 5;"
   ]
  },
  {
   "attachments": {},
   "cell_type": "markdown",
   "metadata": {},
   "source": [
    "Looks like there's an error with the borough Staten Island."
   ]
  },
  {
   "cell_type": "code",
   "execution_count": 11,
   "metadata": {},
   "outputs": [
    {
     "name": "stdout",
     "output_type": "stream",
     "text": [
      " * sqlite:///nyc_inspections.db\n",
      "Done.\n"
     ]
    },
    {
     "data": {
      "text/html": [
       "<table>\n",
       "    <thead>\n",
       "        <tr>\n",
       "            <th>INSPECDATE</th>\n",
       "            <th>INSPECTYPE</th>\n",
       "            <th>CAMIS</th>\n",
       "            <th>SCORE</th>\n",
       "            <th>GRADE</th>\n",
       "            <th>VIOLCODE</th>\n",
       "        </tr>\n",
       "    </thead>\n",
       "    <tbody>\n",
       "        <tr>\n",
       "            <td>1900-01-01 00:00:00</td>\n",
       "            <td>None</td>\n",
       "            <td>50125332</td>\n",
       "            <td>None</td>\n",
       "            <td>None</td>\n",
       "            <td>None</td>\n",
       "        </tr>\n",
       "        <tr>\n",
       "            <td>1900-01-01 00:00:00</td>\n",
       "            <td>None</td>\n",
       "            <td>50113608</td>\n",
       "            <td>None</td>\n",
       "            <td>None</td>\n",
       "            <td>None</td>\n",
       "        </tr>\n",
       "        <tr>\n",
       "            <td>1900-01-01 00:00:00</td>\n",
       "            <td>None</td>\n",
       "            <td>50132947</td>\n",
       "            <td>None</td>\n",
       "            <td>None</td>\n",
       "            <td>None</td>\n",
       "        </tr>\n",
       "        <tr>\n",
       "            <td>1900-01-01 00:00:00</td>\n",
       "            <td>None</td>\n",
       "            <td>50131641</td>\n",
       "            <td>None</td>\n",
       "            <td>None</td>\n",
       "            <td>None</td>\n",
       "        </tr>\n",
       "        <tr>\n",
       "            <td>1900-01-01 00:00:00</td>\n",
       "            <td>None</td>\n",
       "            <td>50107034</td>\n",
       "            <td>None</td>\n",
       "            <td>None</td>\n",
       "            <td>None</td>\n",
       "        </tr>\n",
       "    </tbody>\n",
       "</table>"
      ],
      "text/plain": [
       "[('1900-01-01 00:00:00', None, 50125332, None, None, None),\n",
       " ('1900-01-01 00:00:00', None, 50113608, None, None, None),\n",
       " ('1900-01-01 00:00:00', None, 50132947, None, None, None),\n",
       " ('1900-01-01 00:00:00', None, 50131641, None, None, None),\n",
       " ('1900-01-01 00:00:00', None, 50107034, None, None, None)]"
      ]
     },
     "execution_count": 11,
     "metadata": {},
     "output_type": "execute_result"
    }
   ],
   "source": [
    "%%sql\n",
    "SELECT * FROM inspections\n",
    "ORDER BY INSPECDATE\n",
    "LIMIT 5;"
   ]
  },
  {
   "attachments": {},
   "cell_type": "markdown",
   "metadata": {},
   "source": [
    "Dataset documentation states any entries with an inspection date of 1900-01-01 are new restaurants without an inspection yet. These will have to be filtered out in later analyses."
   ]
  },
  {
   "attachments": {},
   "cell_type": "markdown",
   "metadata": {},
   "source": [
    "Let's start by seeing how many total restaurants are in this dataset?"
   ]
  },
  {
   "cell_type": "code",
   "execution_count": 12,
   "metadata": {},
   "outputs": [
    {
     "name": "stdout",
     "output_type": "stream",
     "text": [
      " * sqlite:///nyc_inspections.db\n",
      "Done.\n"
     ]
    },
    {
     "data": {
      "text/html": [
       "<table>\n",
       "    <thead>\n",
       "        <tr>\n",
       "            <th>n_restaurants</th>\n",
       "        </tr>\n",
       "    </thead>\n",
       "    <tbody>\n",
       "        <tr>\n",
       "            <td>28348</td>\n",
       "        </tr>\n",
       "    </tbody>\n",
       "</table>"
      ],
      "text/plain": [
       "[(28348,)]"
      ]
     },
     "execution_count": 12,
     "metadata": {},
     "output_type": "execute_result"
    }
   ],
   "source": [
    "%%sql\n",
    "SELECT COUNT(DISTINCT camis) AS n_restaurants\n",
    "FROM inspections;"
   ]
  },
  {
   "cell_type": "code",
   "execution_count": 13,
   "metadata": {},
   "outputs": [],
   "source": [
    "# Save result to workspace\n",
    "n_restau = _"
   ]
  },
  {
   "attachments": {},
   "cell_type": "markdown",
   "metadata": {},
   "source": [
    "Next we'll try filtering the results for inspections that resulted in a valid grade. For anything but initial inspections, grades are not given unless the score is <= 13. If a restaurant recieves a score > 13, the grade for that inspection will still be the grade received during the last inspection cycle and is therefore not reflective of their \"current\" grade."
   ]
  },
  {
   "cell_type": "code",
   "execution_count": 14,
   "metadata": {},
   "outputs": [
    {
     "name": "stdout",
     "output_type": "stream",
     "text": [
      " * sqlite:///nyc_inspections.db\n",
      "Done.\n"
     ]
    },
    {
     "data": {
      "text/html": [
       "<table>\n",
       "    <thead>\n",
       "        <tr>\n",
       "            <th>CAMIS</th>\n",
       "            <th>lastinspection</th>\n",
       "            <th>GRADE</th>\n",
       "            <th>SCORE</th>\n",
       "        </tr>\n",
       "    </thead>\n",
       "    <tbody>\n",
       "        <tr>\n",
       "            <td>30075445</td>\n",
       "            <td>2023-02-03 00:00:00</td>\n",
       "            <td>Z</td>\n",
       "            <td>13.0</td>\n",
       "        </tr>\n",
       "        <tr>\n",
       "            <td>30112340</td>\n",
       "            <td>2022-07-13 00:00:00</td>\n",
       "            <td>A</td>\n",
       "            <td>11.0</td>\n",
       "        </tr>\n",
       "        <tr>\n",
       "            <td>30191841</td>\n",
       "            <td>2022-01-04 00:00:00</td>\n",
       "            <td>A</td>\n",
       "            <td>12.0</td>\n",
       "        </tr>\n",
       "        <tr>\n",
       "            <td>40356018</td>\n",
       "            <td>2022-02-01 00:00:00</td>\n",
       "            <td>A</td>\n",
       "            <td>7.0</td>\n",
       "        </tr>\n",
       "        <tr>\n",
       "            <td>40356483</td>\n",
       "            <td>2022-08-19 00:00:00</td>\n",
       "            <td>A</td>\n",
       "            <td>2.0</td>\n",
       "        </tr>\n",
       "        <tr>\n",
       "            <td>40356731</td>\n",
       "            <td>2023-01-17 00:00:00</td>\n",
       "            <td>A</td>\n",
       "            <td>9.0</td>\n",
       "        </tr>\n",
       "        <tr>\n",
       "            <td>40357217</td>\n",
       "            <td>2021-07-28 00:00:00</td>\n",
       "            <td>A</td>\n",
       "            <td>10.0</td>\n",
       "        </tr>\n",
       "        <tr>\n",
       "            <td>40359480</td>\n",
       "            <td>2022-05-03 00:00:00</td>\n",
       "            <td>A</td>\n",
       "            <td>9.0</td>\n",
       "        </tr>\n",
       "        <tr>\n",
       "            <td>40359705</td>\n",
       "            <td>2022-02-10 00:00:00</td>\n",
       "            <td>A</td>\n",
       "            <td>12.0</td>\n",
       "        </tr>\n",
       "        <tr>\n",
       "            <td>40360045</td>\n",
       "            <td>2023-01-31 00:00:00</td>\n",
       "            <td>A</td>\n",
       "            <td>13.0</td>\n",
       "        </tr>\n",
       "    </tbody>\n",
       "</table>"
      ],
      "text/plain": [
       "[(30075445, '2023-02-03 00:00:00', 'Z', 13.0),\n",
       " (30112340, '2022-07-13 00:00:00', 'A', 11.0),\n",
       " (30191841, '2022-01-04 00:00:00', 'A', 12.0),\n",
       " (40356018, '2022-02-01 00:00:00', 'A', 7.0),\n",
       " (40356483, '2022-08-19 00:00:00', 'A', 2.0),\n",
       " (40356731, '2023-01-17 00:00:00', 'A', 9.0),\n",
       " (40357217, '2021-07-28 00:00:00', 'A', 10.0),\n",
       " (40359480, '2022-05-03 00:00:00', 'A', 9.0),\n",
       " (40359705, '2022-02-10 00:00:00', 'A', 12.0),\n",
       " (40360045, '2023-01-31 00:00:00', 'A', 13.0)]"
      ]
     },
     "execution_count": 14,
     "metadata": {},
     "output_type": "execute_result"
    }
   ],
   "source": [
    "%%sql\n",
    "SELECT camis, MAX(inspecdate) AS lastinspection, grade, score\n",
    "FROM inspections\n",
    "WHERE (\n",
    "      inspectype IN (                                            \n",
    "            'Cycle Inspection / Re-inspection',\n",
    "            'Pre-permit (Operational) / Re-inspection'\n",
    "            )\n",
    "      OR (inspectype IN (\n",
    "            'Cycle Inspection / Initial Inspection',                                  \n",
    "            'Pre-permit (Operational) / Initial Inspection'\n",
    "            )\n",
    "            AND SCORE <= 13\n",
    "            )\n",
    "      OR (inspectype IN (                                                    \n",
    "            'Pre-permit (Operational) / Reopening Inspection',\n",
    "            'Cycle Inspection / Reopening Inspection'\n",
    "            )))\n",
    "      AND GRADE IN ('A', 'B', 'C', 'P', 'Z')\n",
    "GROUP BY camis\n",
    "LIMIT 10;"
   ]
  },
  {
   "attachments": {},
   "cell_type": "markdown",
   "metadata": {},
   "source": [
    "How many restaurants does this leave us with?"
   ]
  },
  {
   "cell_type": "code",
   "execution_count": 15,
   "metadata": {},
   "outputs": [
    {
     "name": "stdout",
     "output_type": "stream",
     "text": [
      " * sqlite:///nyc_inspections.db\n",
      "Done.\n"
     ]
    },
    {
     "data": {
      "text/html": [
       "<table>\n",
       "    <thead>\n",
       "        <tr>\n",
       "            <th>n_restaurants</th>\n",
       "        </tr>\n",
       "    </thead>\n",
       "    <tbody>\n",
       "        <tr>\n",
       "            <td>22228</td>\n",
       "        </tr>\n",
       "    </tbody>\n",
       "</table>"
      ],
      "text/plain": [
       "[(22228,)]"
      ]
     },
     "execution_count": 15,
     "metadata": {},
     "output_type": "execute_result"
    }
   ],
   "source": [
    "%%sql\n",
    "SELECT COUNT(camis) AS n_restaurants\n",
    "FROM (\n",
    "      SELECT camis, MAX(inspecdate) AS lastinspection, grade, score\n",
    "      FROM inspections\n",
    "      WHERE (\n",
    "            inspectype IN (                                            \n",
    "                  'Cycle Inspection / Re-inspection',\n",
    "                  'Pre-permit (Operational) / Re-inspection'\n",
    "                  )\n",
    "            OR (inspectype IN (\n",
    "                  'Cycle Inspection / Initial Inspection',                                  \n",
    "                  'Pre-permit (Operational) / Initial Inspection'\n",
    "                  )\n",
    "                  AND SCORE <= 13\n",
    "                  )\n",
    "            OR (inspectype IN (                                                    \n",
    "                  'Pre-permit (Operational) / Reopening Inspection',\n",
    "                  'Cycle Inspection / Reopening Inspection'\n",
    "                  )))\n",
    "            AND GRADE IN ('A', 'B', 'C', 'P', 'Z')\n",
    "      GROUP BY camis\n",
    "      )"
   ]
  },
  {
   "cell_type": "code",
   "execution_count": 16,
   "metadata": {},
   "outputs": [],
   "source": [
    "n_restau_graded = _"
   ]
  },
  {
   "attachments": {},
   "cell_type": "markdown",
   "metadata": {},
   "source": [
    "How many restaurants in the dataset did not have valid grades?"
   ]
  },
  {
   "cell_type": "code",
   "execution_count": 17,
   "metadata": {},
   "outputs": [
    {
     "name": "stdout",
     "output_type": "stream",
     "text": [
      "6120 out of 28348 restaurants had invalid grades.\n"
     ]
    }
   ],
   "source": [
    "df_restau = n_restau.DataFrame()\n",
    "df_restau_graded = n_restau_graded.DataFrame()\n",
    "\n",
    "invalid = int(df_restau.values - df_restau_graded.values)\n",
    "print(f'{invalid} out of {int(df_restau.values)} restaurants had invalid grades.')"
   ]
  },
  {
   "cell_type": "code",
   "execution_count": null,
   "metadata": {},
   "outputs": [],
   "source": []
  }
 ],
 "metadata": {
  "kernelspec": {
   "display_name": ".venv",
   "language": "python",
   "name": "python3"
  },
  "language_info": {
   "codemirror_mode": {
    "name": "ipython",
    "version": 3
   },
   "file_extension": ".py",
   "mimetype": "text/x-python",
   "name": "python",
   "nbconvert_exporter": "python",
   "pygments_lexer": "ipython3",
   "version": "3.9.6"
  },
  "orig_nbformat": 4
 },
 "nbformat": 4,
 "nbformat_minor": 2
}
