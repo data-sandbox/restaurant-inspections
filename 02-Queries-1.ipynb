{
 "cells": [
  {
   "attachments": {},
   "cell_type": "markdown",
   "metadata": {},
   "source": [
    "### 02 Queries, Take 1\n",
    "\n",
    "Add more descriptive title and summary later."
   ]
  },
  {
   "cell_type": "code",
   "execution_count": 29,
   "metadata": {
    "tags": []
   },
   "outputs": [],
   "source": [
    "import sqlite3\n",
    "import matplotlib.pyplot as plt\n",
    "import seaborn as sns\n",
    "sns.set()"
   ]
  },
  {
   "cell_type": "code",
   "execution_count": 2,
   "metadata": {
    "tags": []
   },
   "outputs": [],
   "source": [
    "%load_ext sql\n",
    "%sql sqlite:///nyc_inspections.db"
   ]
  },
  {
   "attachments": {},
   "cell_type": "markdown",
   "metadata": {},
   "source": [
    "Before diving too deep, let's explore the base tables in the database to see any missing or out of place values."
   ]
  },
  {
   "cell_type": "code",
   "execution_count": 3,
   "metadata": {
    "tags": []
   },
   "outputs": [
    {
     "name": "stdout",
     "output_type": "stream",
     "text": [
      " * sqlite:///nyc_inspections.db\n",
      "Done.\n"
     ]
    },
    {
     "data": {
      "text/html": [
       "<table>\n",
       "    <thead>\n",
       "        <tr>\n",
       "            <th>BORO</th>\n",
       "            <th>n_restaurants</th>\n",
       "        </tr>\n",
       "    </thead>\n",
       "    <tbody>\n",
       "        <tr>\n",
       "            <td>Bronx</td>\n",
       "            <td>19620</td>\n",
       "        </tr>\n",
       "        <tr>\n",
       "            <td>Brooklyn</td>\n",
       "            <td>55205</td>\n",
       "        </tr>\n",
       "        <tr>\n",
       "            <td>Manhattan</td>\n",
       "            <td>77600</td>\n",
       "        </tr>\n",
       "        <tr>\n",
       "            <td>Queens</td>\n",
       "            <td>48972</td>\n",
       "        </tr>\n",
       "        <tr>\n",
       "            <td>Staten Island</td>\n",
       "            <td>6664</td>\n",
       "        </tr>\n",
       "    </tbody>\n",
       "</table>"
      ],
      "text/plain": [
       "[('Bronx', 19620),\n",
       " ('Brooklyn', 55205),\n",
       " ('Manhattan', 77600),\n",
       " ('Queens', 48972),\n",
       " ('Staten Island', 6664)]"
      ]
     },
     "execution_count": 3,
     "metadata": {},
     "output_type": "execute_result"
    }
   ],
   "source": [
    "%%sql\n",
    "SELECT boro, COUNT(camis) AS n_restaurants FROM restaurants\n",
    "GROUP BY boro\n",
    "HAVING boro != '0'\n",
    "LIMIT 10;"
   ]
  },
  {
   "attachments": {},
   "cell_type": "markdown",
   "metadata": {},
   "source": [
    "Unlabeled boroughs were marked as \"0\". The above query filters them out."
   ]
  },
  {
   "cell_type": "code",
   "execution_count": 3,
   "metadata": {
    "tags": []
   },
   "outputs": [
    {
     "name": "stdout",
     "output_type": "stream",
     "text": [
      " * sqlite:///nyc_inspections.db\n",
      "Done.\n"
     ]
    },
    {
     "data": {
      "text/html": [
       "<table>\n",
       "    <thead>\n",
       "        <tr>\n",
       "            <th>INSPECDATE</th>\n",
       "            <th>INSPECTYPE</th>\n",
       "            <th>CAMIS</th>\n",
       "            <th>SCORE</th>\n",
       "            <th>GRADE</th>\n",
       "            <th>VIOLCODE</th>\n",
       "        </tr>\n",
       "    </thead>\n",
       "    <tbody>\n",
       "        <tr>\n",
       "            <td>1900-01-01 00:00:00</td>\n",
       "            <td>None</td>\n",
       "            <td>50125332</td>\n",
       "            <td>None</td>\n",
       "            <td>None</td>\n",
       "            <td>None</td>\n",
       "        </tr>\n",
       "        <tr>\n",
       "            <td>1900-01-01 00:00:00</td>\n",
       "            <td>None</td>\n",
       "            <td>50113608</td>\n",
       "            <td>None</td>\n",
       "            <td>None</td>\n",
       "            <td>None</td>\n",
       "        </tr>\n",
       "        <tr>\n",
       "            <td>1900-01-01 00:00:00</td>\n",
       "            <td>None</td>\n",
       "            <td>50132947</td>\n",
       "            <td>None</td>\n",
       "            <td>None</td>\n",
       "            <td>None</td>\n",
       "        </tr>\n",
       "        <tr>\n",
       "            <td>1900-01-01 00:00:00</td>\n",
       "            <td>None</td>\n",
       "            <td>50131641</td>\n",
       "            <td>None</td>\n",
       "            <td>None</td>\n",
       "            <td>None</td>\n",
       "        </tr>\n",
       "        <tr>\n",
       "            <td>1900-01-01 00:00:00</td>\n",
       "            <td>None</td>\n",
       "            <td>50107034</td>\n",
       "            <td>None</td>\n",
       "            <td>None</td>\n",
       "            <td>None</td>\n",
       "        </tr>\n",
       "    </tbody>\n",
       "</table>"
      ],
      "text/plain": [
       "[('1900-01-01 00:00:00', None, 50125332, None, None, None),\n",
       " ('1900-01-01 00:00:00', None, 50113608, None, None, None),\n",
       " ('1900-01-01 00:00:00', None, 50132947, None, None, None),\n",
       " ('1900-01-01 00:00:00', None, 50131641, None, None, None),\n",
       " ('1900-01-01 00:00:00', None, 50107034, None, None, None)]"
      ]
     },
     "execution_count": 3,
     "metadata": {},
     "output_type": "execute_result"
    }
   ],
   "source": [
    "%%sql\n",
    "SELECT * FROM inspections\n",
    "ORDER BY INSPECDATE\n",
    "LIMIT 5;"
   ]
  },
  {
   "attachments": {},
   "cell_type": "markdown",
   "metadata": {},
   "source": [
    "Dataset documentation says any entries with an inspection date of 1900-01-01 are new restaurants without an inspection yet. These will have to be filtered out in later analyses."
   ]
  },
  {
   "attachments": {},
   "cell_type": "markdown",
   "metadata": {},
   "source": [
    "### Total number of restaurants\n",
    "Let's start by seeing how many total restaurants are in this dataset."
   ]
  },
  {
   "cell_type": "code",
   "execution_count": 2,
   "metadata": {
    "tags": []
   },
   "outputs": [
    {
     "name": "stdout",
     "output_type": "stream",
     "text": [
      " * sqlite:///nyc_inspections.db\n",
      "Done.\n"
     ]
    },
    {
     "data": {
      "text/html": [
       "<table>\n",
       "    <thead>\n",
       "        <tr>\n",
       "            <th>n_restaurants</th>\n",
       "        </tr>\n",
       "    </thead>\n",
       "    <tbody>\n",
       "        <tr>\n",
       "            <td>28348</td>\n",
       "        </tr>\n",
       "    </tbody>\n",
       "</table>"
      ],
      "text/plain": [
       "[(28348,)]"
      ]
     },
     "execution_count": 2,
     "metadata": {},
     "output_type": "execute_result"
    }
   ],
   "source": [
    "%%sql\n",
    "SELECT COUNT(DISTINCT camis) AS n_restaurants\n",
    "FROM inspections;"
   ]
  },
  {
   "cell_type": "code",
   "execution_count": 5,
   "metadata": {
    "tags": []
   },
   "outputs": [],
   "source": [
    "# Save result to workspace\n",
    "n_restau = _"
   ]
  },
  {
   "attachments": {},
   "cell_type": "markdown",
   "metadata": {},
   "source": [
    "Next we'll try filtering the results for inspections that resulted in a valid grade. For anything but initial inspections, grades are not given unless the score is <= 13. If a restaurant recieves a score > 13, the grade for that inspection will still be the grade received during the last inspection cycle and is therefore not reflective of their \"current\" grade."
   ]
  },
  {
   "cell_type": "code",
   "execution_count": 3,
   "metadata": {
    "tags": []
   },
   "outputs": [
    {
     "name": "stdout",
     "output_type": "stream",
     "text": [
      " * sqlite:///nyc_inspections.db\n",
      "Done.\n"
     ]
    },
    {
     "data": {
      "text/html": [
       "<table>\n",
       "    <thead>\n",
       "        <tr>\n",
       "            <th>CAMIS</th>\n",
       "            <th>lastinspection</th>\n",
       "            <th>GRADE</th>\n",
       "            <th>SCORE</th>\n",
       "            <th>VIOLCODE</th>\n",
       "        </tr>\n",
       "    </thead>\n",
       "    <tbody>\n",
       "        <tr>\n",
       "            <td>30075445</td>\n",
       "            <td>2023-02-03 00:00:00</td>\n",
       "            <td>Z</td>\n",
       "            <td>13.0</td>\n",
       "            <td>02G</td>\n",
       "        </tr>\n",
       "        <tr>\n",
       "            <td>30112340</td>\n",
       "            <td>2022-07-13 00:00:00</td>\n",
       "            <td>A</td>\n",
       "            <td>11.0</td>\n",
       "            <td>10F</td>\n",
       "        </tr>\n",
       "        <tr>\n",
       "            <td>30191841</td>\n",
       "            <td>2022-01-04 00:00:00</td>\n",
       "            <td>A</td>\n",
       "            <td>12.0</td>\n",
       "            <td>10F</td>\n",
       "        </tr>\n",
       "        <tr>\n",
       "            <td>40356018</td>\n",
       "            <td>2022-02-01 00:00:00</td>\n",
       "            <td>A</td>\n",
       "            <td>7.0</td>\n",
       "            <td>02G</td>\n",
       "        </tr>\n",
       "        <tr>\n",
       "            <td>40356483</td>\n",
       "            <td>2022-08-19 00:00:00</td>\n",
       "            <td>A</td>\n",
       "            <td>2.0</td>\n",
       "            <td>10F</td>\n",
       "        </tr>\n",
       "        <tr>\n",
       "            <td>40356731</td>\n",
       "            <td>2023-01-17 00:00:00</td>\n",
       "            <td>A</td>\n",
       "            <td>9.0</td>\n",
       "            <td>08A</td>\n",
       "        </tr>\n",
       "        <tr>\n",
       "            <td>40357217</td>\n",
       "            <td>2021-07-28 00:00:00</td>\n",
       "            <td>A</td>\n",
       "            <td>10.0</td>\n",
       "            <td>02G</td>\n",
       "        </tr>\n",
       "        <tr>\n",
       "            <td>40359480</td>\n",
       "            <td>2022-05-03 00:00:00</td>\n",
       "            <td>A</td>\n",
       "            <td>9.0</td>\n",
       "            <td>06D</td>\n",
       "        </tr>\n",
       "        <tr>\n",
       "            <td>40359705</td>\n",
       "            <td>2022-02-10 00:00:00</td>\n",
       "            <td>A</td>\n",
       "            <td>12.0</td>\n",
       "            <td>10F</td>\n",
       "        </tr>\n",
       "        <tr>\n",
       "            <td>40360045</td>\n",
       "            <td>2023-01-31 00:00:00</td>\n",
       "            <td>A</td>\n",
       "            <td>13.0</td>\n",
       "            <td>04M</td>\n",
       "        </tr>\n",
       "    </tbody>\n",
       "</table>"
      ],
      "text/plain": [
       "[(30075445, '2023-02-03 00:00:00', 'Z', 13.0, '02G'),\n",
       " (30112340, '2022-07-13 00:00:00', 'A', 11.0, '10F'),\n",
       " (30191841, '2022-01-04 00:00:00', 'A', 12.0, '10F'),\n",
       " (40356018, '2022-02-01 00:00:00', 'A', 7.0, '02G'),\n",
       " (40356483, '2022-08-19 00:00:00', 'A', 2.0, '10F'),\n",
       " (40356731, '2023-01-17 00:00:00', 'A', 9.0, '08A'),\n",
       " (40357217, '2021-07-28 00:00:00', 'A', 10.0, '02G'),\n",
       " (40359480, '2022-05-03 00:00:00', 'A', 9.0, '06D'),\n",
       " (40359705, '2022-02-10 00:00:00', 'A', 12.0, '10F'),\n",
       " (40360045, '2023-01-31 00:00:00', 'A', 13.0, '04M')]"
      ]
     },
     "execution_count": 3,
     "metadata": {},
     "output_type": "execute_result"
    }
   ],
   "source": [
    "%%sql\n",
    "SELECT camis, MAX(inspecdate) AS lastinspection, grade, score, violcode\n",
    "FROM inspections\n",
    "WHERE (\n",
    "      inspectype IN (                                            \n",
    "            'Cycle Inspection / Re-inspection',\n",
    "            'Pre-permit (Operational) / Re-inspection'\n",
    "            )\n",
    "      OR (inspectype IN (\n",
    "            'Cycle Inspection / Initial Inspection',                                  \n",
    "            'Pre-permit (Operational) / Initial Inspection'\n",
    "            )\n",
    "            AND SCORE <= 13\n",
    "            )\n",
    "      OR (inspectype IN (                                                    \n",
    "            'Pre-permit (Operational) / Reopening Inspection',\n",
    "            'Cycle Inspection / Reopening Inspection'\n",
    "            )))\n",
    "      AND GRADE IN ('A', 'B', 'C', 'P', 'Z')\n",
    "GROUP BY camis\n",
    "LIMIT 10;"
   ]
  },
  {
   "attachments": {},
   "cell_type": "markdown",
   "metadata": {},
   "source": [
    "### Valid grades\n",
    "How many restaurants did *not* have valid grades? To find this we'll count all the restaurants *with* valid grades and subtract that from the total number of restaurants in the dataset."
   ]
  },
  {
   "cell_type": "code",
   "execution_count": 4,
   "metadata": {
    "tags": []
   },
   "outputs": [
    {
     "name": "stdout",
     "output_type": "stream",
     "text": [
      " * sqlite:///nyc_inspections.db\n",
      "Done.\n"
     ]
    },
    {
     "data": {
      "text/html": [
       "<table>\n",
       "    <thead>\n",
       "        <tr>\n",
       "            <th>n_restaurants</th>\n",
       "        </tr>\n",
       "    </thead>\n",
       "    <tbody>\n",
       "        <tr>\n",
       "            <td>22228</td>\n",
       "        </tr>\n",
       "    </tbody>\n",
       "</table>"
      ],
      "text/plain": [
       "[(22228,)]"
      ]
     },
     "execution_count": 4,
     "metadata": {},
     "output_type": "execute_result"
    }
   ],
   "source": [
    "%%sql\n",
    "SELECT COUNT(camis) AS n_restaurants\n",
    "FROM (\n",
    "      SELECT camis, MAX(inspecdate) AS lastinspection, grade, score\n",
    "      FROM inspections\n",
    "      WHERE (\n",
    "            inspectype IN (                                            \n",
    "                  'Cycle Inspection / Re-inspection',\n",
    "                  'Pre-permit (Operational) / Re-inspection'\n",
    "                  )\n",
    "            OR (inspectype IN (\n",
    "                  'Cycle Inspection / Initial Inspection',                                  \n",
    "                  'Pre-permit (Operational) / Initial Inspection'\n",
    "                  )\n",
    "                  AND SCORE <= 13\n",
    "                  )\n",
    "            OR (inspectype IN (                                                    \n",
    "                  'Pre-permit (Operational) / Reopening Inspection',\n",
    "                  'Cycle Inspection / Reopening Inspection'\n",
    "                  )))\n",
    "            AND GRADE IN ('A', 'B', 'C', 'P', 'Z')\n",
    "      GROUP BY camis\n",
    "      )"
   ]
  },
  {
   "cell_type": "code",
   "execution_count": 8,
   "metadata": {
    "tags": []
   },
   "outputs": [],
   "source": [
    "n_restau_graded = _"
   ]
  },
  {
   "cell_type": "code",
   "execution_count": 9,
   "metadata": {
    "tags": []
   },
   "outputs": [
    {
     "name": "stdout",
     "output_type": "stream",
     "text": [
      "6120 out of 28348 restaurants had invalid grades.\n"
     ]
    }
   ],
   "source": [
    "df_restau = n_restau.DataFrame()\n",
    "df_restau_graded = n_restau_graded.DataFrame()\n",
    "\n",
    "invalid = int(df_restau.values - df_restau_graded.values)\n",
    "print(f'{invalid} out of {int(df_restau.values)} restaurants had invalid grades.')"
   ]
  },
  {
   "attachments": {},
   "cell_type": "markdown",
   "metadata": {},
   "source": [
    "Let's make the query for valid grades into a temporary view to simplify follow-on queries."
   ]
  },
  {
   "cell_type": "code",
   "execution_count": 5,
   "metadata": {
    "tags": []
   },
   "outputs": [
    {
     "name": "stdout",
     "output_type": "stream",
     "text": [
      " * sqlite:///nyc_inspections.db\n",
      "Done.\n",
      "Done.\n"
     ]
    },
    {
     "data": {
      "text/plain": [
       "[]"
      ]
     },
     "execution_count": 5,
     "metadata": {},
     "output_type": "execute_result"
    }
   ],
   "source": [
    "%%sql\n",
    "DROP VIEW IF EXISTS has_grade;\n",
    "\n",
    "CREATE TEMP VIEW has_grade AS\n",
    "\n",
    "SELECT camis, MAX(inspecdate) AS lastinspection, grade, score, violcode\n",
    "FROM inspections\n",
    "WHERE (\n",
    "      inspectype IN (                                            \n",
    "            'Cycle Inspection / Re-inspection',\n",
    "            'Pre-permit (Operational) / Re-inspection'\n",
    "            )\n",
    "      OR (inspectype IN (\n",
    "            'Cycle Inspection / Initial Inspection',                                  \n",
    "            'Pre-permit (Operational) / Initial Inspection'\n",
    "            )\n",
    "            AND SCORE <= 13\n",
    "            )\n",
    "      OR (inspectype IN (                                                    \n",
    "            'Pre-permit (Operational) / Reopening Inspection',\n",
    "            'Cycle Inspection / Reopening Inspection'\n",
    "            )))\n",
    "      AND GRADE IN ('A', 'B', 'C', 'P', 'Z')\n",
    "GROUP BY camis;"
   ]
  },
  {
   "attachments": {},
   "cell_type": "markdown",
   "metadata": {},
   "source": [
    "### Borough comparisons\n",
    "It would be interesting to see how the boroughs compare across restaurants. Let's join the has_grade table with the restaurants table. But first let's verify what's in each table."
   ]
  },
  {
   "cell_type": "code",
   "execution_count": 4,
   "metadata": {},
   "outputs": [
    {
     "name": "stdout",
     "output_type": "stream",
     "text": [
      " * sqlite:///nyc_inspections.db\n",
      "Done.\n"
     ]
    },
    {
     "data": {
      "text/html": [
       "<table>\n",
       "    <thead>\n",
       "        <tr>\n",
       "            <th>CAMIS</th>\n",
       "            <th>DBA</th>\n",
       "            <th>CUISDESC</th>\n",
       "            <th>ZIPCODE</th>\n",
       "            <th>BORO</th>\n",
       "            <th>Latitude</th>\n",
       "            <th>Longitude</th>\n",
       "        </tr>\n",
       "    </thead>\n",
       "    <tbody>\n",
       "        <tr>\n",
       "            <td>30075445</td>\n",
       "            <td>MORRIS PARK BAKE SHOP</td>\n",
       "            <td>Bakery Products/Desserts</td>\n",
       "            <td>10462</td>\n",
       "            <td>Bronx</td>\n",
       "            <td>40.848231224526</td>\n",
       "            <td>-73.855971889932</td>\n",
       "        </tr>\n",
       "        <tr>\n",
       "            <td>30112340</td>\n",
       "            <td>WENDY&#x27;S</td>\n",
       "            <td>Hamburgers</td>\n",
       "            <td>11225</td>\n",
       "            <td>Brooklyn</td>\n",
       "            <td>40.662651518808</td>\n",
       "            <td>-73.962081374927</td>\n",
       "        </tr>\n",
       "        <tr>\n",
       "            <td>30191841</td>\n",
       "            <td>DJ REYNOLDS PUB AND RESTAURANT</td>\n",
       "            <td>Irish</td>\n",
       "            <td>10019</td>\n",
       "            <td>Manhattan</td>\n",
       "            <td>40.767325711553</td>\n",
       "            <td>-73.984310423617</td>\n",
       "        </tr>\n",
       "        <tr>\n",
       "            <td>40356018</td>\n",
       "            <td>RIVIERA CATERERS</td>\n",
       "            <td>American</td>\n",
       "            <td>11224</td>\n",
       "            <td>Brooklyn</td>\n",
       "            <td>40.579920366974</td>\n",
       "            <td>-73.98209024916</td>\n",
       "        </tr>\n",
       "        <tr>\n",
       "            <td>40356483</td>\n",
       "            <td>WILKEN&#x27;S FINE FOOD</td>\n",
       "            <td>Sandwiches</td>\n",
       "            <td>11234</td>\n",
       "            <td>Brooklyn</td>\n",
       "            <td>40.620111590927</td>\n",
       "            <td>-73.906989489698</td>\n",
       "        </tr>\n",
       "    </tbody>\n",
       "</table>"
      ],
      "text/plain": [
       "[(30075445, 'MORRIS PARK BAKE SHOP', 'Bakery Products/Desserts', 10462, 'Bronx', 40.848231224526, -73.855971889932),\n",
       " (30112340, \"WENDY'S\", 'Hamburgers', 11225, 'Brooklyn', 40.662651518808, -73.962081374927),\n",
       " (30191841, 'DJ REYNOLDS PUB AND RESTAURANT', 'Irish', 10019, 'Manhattan', 40.767325711553, -73.984310423617),\n",
       " (40356018, 'RIVIERA CATERERS', 'American', 11224, 'Brooklyn', 40.579920366974, -73.98209024916),\n",
       " (40356483, \"WILKEN'S FINE FOOD\", 'Sandwiches', 11234, 'Brooklyn', 40.620111590927, -73.906989489698)]"
      ]
     },
     "execution_count": 4,
     "metadata": {},
     "output_type": "execute_result"
    }
   ],
   "source": [
    "%%sql\n",
    "SELECT * FROM restaurants\n",
    "GROUP BY camis\n",
    "LIMIT 5;"
   ]
  },
  {
   "cell_type": "code",
   "execution_count": 5,
   "metadata": {},
   "outputs": [
    {
     "name": "stdout",
     "output_type": "stream",
     "text": [
      " * sqlite:///nyc_inspections.db\n",
      "Done.\n"
     ]
    },
    {
     "data": {
      "text/html": [
       "<table>\n",
       "    <thead>\n",
       "        <tr>\n",
       "            <th>CAMIS</th>\n",
       "            <th>lastinspection</th>\n",
       "            <th>GRADE</th>\n",
       "            <th>SCORE</th>\n",
       "            <th>VIOLCODE</th>\n",
       "        </tr>\n",
       "    </thead>\n",
       "    <tbody>\n",
       "        <tr>\n",
       "            <td>30075445</td>\n",
       "            <td>2023-02-03 00:00:00</td>\n",
       "            <td>Z</td>\n",
       "            <td>13.0</td>\n",
       "            <td>02G</td>\n",
       "        </tr>\n",
       "        <tr>\n",
       "            <td>30112340</td>\n",
       "            <td>2022-07-13 00:00:00</td>\n",
       "            <td>A</td>\n",
       "            <td>11.0</td>\n",
       "            <td>10F</td>\n",
       "        </tr>\n",
       "        <tr>\n",
       "            <td>30191841</td>\n",
       "            <td>2022-01-04 00:00:00</td>\n",
       "            <td>A</td>\n",
       "            <td>12.0</td>\n",
       "            <td>10F</td>\n",
       "        </tr>\n",
       "        <tr>\n",
       "            <td>40356018</td>\n",
       "            <td>2022-02-01 00:00:00</td>\n",
       "            <td>A</td>\n",
       "            <td>7.0</td>\n",
       "            <td>02G</td>\n",
       "        </tr>\n",
       "        <tr>\n",
       "            <td>40356483</td>\n",
       "            <td>2022-08-19 00:00:00</td>\n",
       "            <td>A</td>\n",
       "            <td>2.0</td>\n",
       "            <td>10F</td>\n",
       "        </tr>\n",
       "    </tbody>\n",
       "</table>"
      ],
      "text/plain": [
       "[(30075445, '2023-02-03 00:00:00', 'Z', 13.0, '02G'),\n",
       " (30112340, '2022-07-13 00:00:00', 'A', 11.0, '10F'),\n",
       " (30191841, '2022-01-04 00:00:00', 'A', 12.0, '10F'),\n",
       " (40356018, '2022-02-01 00:00:00', 'A', 7.0, '02G'),\n",
       " (40356483, '2022-08-19 00:00:00', 'A', 2.0, '10F')]"
      ]
     },
     "execution_count": 5,
     "metadata": {},
     "output_type": "execute_result"
    }
   ],
   "source": [
    "%%sql\n",
    "SELECT * FROM has_grade\n",
    "GROUP BY camis\n",
    "LIMIT 5;\n"
   ]
  },
  {
   "attachments": {},
   "cell_type": "markdown",
   "metadata": {},
   "source": [
    "Now let's join the two tables to combine the business name, cuisine type, and borough fields with the grade and score info."
   ]
  },
  {
   "cell_type": "code",
   "execution_count": 6,
   "metadata": {
    "tags": []
   },
   "outputs": [
    {
     "name": "stdout",
     "output_type": "stream",
     "text": [
      " * sqlite:///nyc_inspections.db\n",
      "Done.\n"
     ]
    },
    {
     "data": {
      "text/html": [
       "<table>\n",
       "    <thead>\n",
       "        <tr>\n",
       "            <th>CAMIS</th>\n",
       "            <th>DBA</th>\n",
       "            <th>CUISDESC</th>\n",
       "            <th>GRADE</th>\n",
       "            <th>SCORE</th>\n",
       "            <th>BORO</th>\n",
       "        </tr>\n",
       "    </thead>\n",
       "    <tbody>\n",
       "        <tr>\n",
       "            <td>50072080</td>\n",
       "            <td>SIMON &amp; THE WHALE</td>\n",
       "            <td>American</td>\n",
       "            <td>A</td>\n",
       "            <td>7.0</td>\n",
       "            <td>Manhattan</td>\n",
       "        </tr>\n",
       "        <tr>\n",
       "            <td>40825908</td>\n",
       "            <td>POLANCO RESTAURANT BBQ</td>\n",
       "            <td>Latin American</td>\n",
       "            <td>A</td>\n",
       "            <td>10.0</td>\n",
       "            <td>Manhattan</td>\n",
       "        </tr>\n",
       "        <tr>\n",
       "            <td>50040406</td>\n",
       "            <td>DOUGH</td>\n",
       "            <td>Donuts</td>\n",
       "            <td>A</td>\n",
       "            <td>12.0</td>\n",
       "            <td>Manhattan</td>\n",
       "        </tr>\n",
       "        <tr>\n",
       "            <td>50012650</td>\n",
       "            <td>LOS POBLANOS RESTAURANT</td>\n",
       "            <td>Mexican</td>\n",
       "            <td>Z</td>\n",
       "            <td>39.0</td>\n",
       "            <td>Brooklyn</td>\n",
       "        </tr>\n",
       "        <tr>\n",
       "            <td>50015482</td>\n",
       "            <td>WING HING CHINESE CUISINE</td>\n",
       "            <td>Chinese</td>\n",
       "            <td>A</td>\n",
       "            <td>7.0</td>\n",
       "            <td>Brooklyn</td>\n",
       "        </tr>\n",
       "    </tbody>\n",
       "</table>"
      ],
      "text/plain": [
       "[(50072080, 'SIMON & THE WHALE', 'American', 'A', 7.0, 'Manhattan'),\n",
       " (40825908, 'POLANCO RESTAURANT BBQ', 'Latin American', 'A', 10.0, 'Manhattan'),\n",
       " (50040406, 'DOUGH', 'Donuts', 'A', 12.0, 'Manhattan'),\n",
       " (50012650, 'LOS POBLANOS RESTAURANT', 'Mexican', 'Z', 39.0, 'Brooklyn'),\n",
       " (50015482, 'WING HING CHINESE CUISINE', 'Chinese', 'A', 7.0, 'Brooklyn')]"
      ]
     },
     "execution_count": 6,
     "metadata": {},
     "output_type": "execute_result"
    }
   ],
   "source": [
    "%%sql\n",
    "SELECT has_grade.camis, dba, cuisdesc, grade, \n",
    "    score, boro\n",
    "FROM has_grade\n",
    "JOIN restaurants\n",
    "ON has_grade.camis = restaurants.camis\n",
    "LIMIT 5;"
   ]
  },
  {
   "attachments": {},
   "cell_type": "markdown",
   "metadata": {},
   "source": [
    "How many restaurants are in the table now?"
   ]
  },
  {
   "cell_type": "code",
   "execution_count": 35,
   "metadata": {},
   "outputs": [
    {
     "name": "stdout",
     "output_type": "stream",
     "text": [
      " * sqlite:///nyc_inspections.db\n",
      "Done.\n"
     ]
    },
    {
     "data": {
      "text/html": [
       "<table>\n",
       "    <thead>\n",
       "        <tr>\n",
       "            <th>n_restaurants</th>\n",
       "        </tr>\n",
       "    </thead>\n",
       "    <tbody>\n",
       "        <tr>\n",
       "            <td>194684</td>\n",
       "        </tr>\n",
       "    </tbody>\n",
       "</table>"
      ],
      "text/plain": [
       "[(194684,)]"
      ]
     },
     "execution_count": 35,
     "metadata": {},
     "output_type": "execute_result"
    }
   ],
   "source": [
    "%%sql\n",
    "SELECT COUNT(camis) AS n_restaurants FROM (\n",
    "    SELECT has_grade.camis, dba, grade, \n",
    "        score, boro\n",
    "    FROM has_grade\n",
    "    JOIN restaurants\n",
    "    ON has_grade.camis = restaurants.camis\n",
    ")\n",
    "LIMIT 5;"
   ]
  },
  {
   "attachments": {},
   "cell_type": "markdown",
   "metadata": {},
   "source": [
    "**Note:** Using `DISTINCT camis` would be more correct like in the query below. However, adding `DISTINCT` causes the query compute time to go from 0.1 seconds to 3+ minutes for some reason on my machine."
   ]
  },
  {
   "cell_type": "code",
   "execution_count": 8,
   "metadata": {},
   "outputs": [
    {
     "name": "stdout",
     "output_type": "stream",
     "text": [
      " * sqlite:///nyc_inspections.db\n"
     ]
    }
   ],
   "source": [
    "%%sql\n",
    "SELECT COUNT(DISTINCT camis) AS n_restaurants FROM (\n",
    "    SELECT has_grade.camis, dba, grade, \n",
    "        score, boro\n",
    "    FROM has_grade\n",
    "    JOIN restaurants\n",
    "    ON has_grade.camis = restaurants.camis\n",
    ")\n",
    "LIMIT 5;"
   ]
  },
  {
   "attachments": {},
   "cell_type": "markdown",
   "metadata": {},
   "source": [
    "### Borough grades\n",
    "How do the boroughs compare in terms of grades? We'll group by grade and borough and quickly plot the results."
   ]
  },
  {
   "cell_type": "code",
   "execution_count": 7,
   "metadata": {},
   "outputs": [
    {
     "name": "stdout",
     "output_type": "stream",
     "text": [
      " * sqlite:///nyc_inspections.db\n",
      "Done.\n",
      "Returning data to local variable by_grade\n"
     ]
    }
   ],
   "source": [
    "%%sql by_grade <<\n",
    "SELECT grade, boro, \n",
    "    COUNT(has_grade.camis) AS n_restaurants\n",
    "FROM has_grade\n",
    "JOIN restaurants\n",
    "ON has_grade.camis = restaurants.camis\n",
    "GROUP BY grade, boro\n",
    "HAVING boro != 0\n",
    "LIMIT 50;"
   ]
  },
  {
   "cell_type": "code",
   "execution_count": 34,
   "metadata": {},
   "outputs": [
    {
     "data": {
      "text/html": [
       "<div>\n",
       "<style scoped>\n",
       "    .dataframe tbody tr th:only-of-type {\n",
       "        vertical-align: middle;\n",
       "    }\n",
       "\n",
       "    .dataframe tbody tr th {\n",
       "        vertical-align: top;\n",
       "    }\n",
       "\n",
       "    .dataframe thead th {\n",
       "        text-align: right;\n",
       "    }\n",
       "</style>\n",
       "<table border=\"1\" class=\"dataframe\">\n",
       "  <thead>\n",
       "    <tr style=\"text-align: right;\">\n",
       "      <th></th>\n",
       "      <th>GRADE</th>\n",
       "      <th>BORO</th>\n",
       "      <th>n_restaurants</th>\n",
       "    </tr>\n",
       "  </thead>\n",
       "  <tbody>\n",
       "    <tr>\n",
       "      <th>0</th>\n",
       "      <td>A</td>\n",
       "      <td>Bronx</td>\n",
       "      <td>13313</td>\n",
       "    </tr>\n",
       "    <tr>\n",
       "      <th>1</th>\n",
       "      <td>A</td>\n",
       "      <td>Brooklyn</td>\n",
       "      <td>36843</td>\n",
       "    </tr>\n",
       "    <tr>\n",
       "      <th>2</th>\n",
       "      <td>A</td>\n",
       "      <td>Manhattan</td>\n",
       "      <td>54650</td>\n",
       "    </tr>\n",
       "    <tr>\n",
       "      <th>3</th>\n",
       "      <td>A</td>\n",
       "      <td>Queens</td>\n",
       "      <td>32871</td>\n",
       "    </tr>\n",
       "    <tr>\n",
       "      <th>4</th>\n",
       "      <td>A</td>\n",
       "      <td>Staten Island</td>\n",
       "      <td>4891</td>\n",
       "    </tr>\n",
       "    <tr>\n",
       "      <th>5</th>\n",
       "      <td>B</td>\n",
       "      <td>Bronx</td>\n",
       "      <td>2023</td>\n",
       "    </tr>\n",
       "    <tr>\n",
       "      <th>6</th>\n",
       "      <td>B</td>\n",
       "      <td>Brooklyn</td>\n",
       "      <td>5005</td>\n",
       "    </tr>\n",
       "    <tr>\n",
       "      <th>7</th>\n",
       "      <td>B</td>\n",
       "      <td>Manhattan</td>\n",
       "      <td>6389</td>\n",
       "    </tr>\n",
       "  </tbody>\n",
       "</table>\n",
       "</div>"
      ],
      "text/plain": [
       "  GRADE           BORO  n_restaurants\n",
       "0     A          Bronx          13313\n",
       "1     A       Brooklyn          36843\n",
       "2     A      Manhattan          54650\n",
       "3     A         Queens          32871\n",
       "4     A  Staten Island           4891\n",
       "5     B          Bronx           2023\n",
       "6     B       Brooklyn           5005\n",
       "7     B      Manhattan           6389"
      ]
     },
     "execution_count": 34,
     "metadata": {},
     "output_type": "execute_result"
    }
   ],
   "source": [
    "# Convert to dataframe\n",
    "df_grade = by_grade.DataFrame()\n",
    "df_grade.head(8)"
   ]
  },
  {
   "cell_type": "code",
   "execution_count": 33,
   "metadata": {},
   "outputs": [
    {
     "data": {
      "text/plain": [
       "Text(0, 0.5, '# of Restaurants')"
      ]
     },
     "execution_count": 33,
     "metadata": {},
     "output_type": "execute_result"
    },
    {
     "data": {
      "image/png": "[encoded data removed]",
      "text/plain": [
       "<Figure size 640x480 with 1 Axes>"
      ]
     },
     "metadata": {},
     "output_type": "display_data"
    }
   ],
   "source": [
    "# Plot\n",
    "sns.barplot(data=df_grade, x='BORO', y='n_restaurants', hue='GRADE')\n",
    "plt.xlabel('Borough')\n",
    "plt.ylabel('# of Restaurants')"
   ]
  },
  {
   "attachments": {},
   "cell_type": "markdown",
   "metadata": {},
   "source": [
    "To normalize the results, we can divide the number of restaurants for a given grade by the total number of restaurants per borough."
   ]
  },
  {
   "cell_type": "code",
   "execution_count": 40,
   "metadata": {},
   "outputs": [
    {
     "data": {
      "text/html": [
       "<div>\n",
       "<style scoped>\n",
       "    .dataframe tbody tr th:only-of-type {\n",
       "        vertical-align: middle;\n",
       "    }\n",
       "\n",
       "    .dataframe tbody tr th {\n",
       "        vertical-align: top;\n",
       "    }\n",
       "\n",
       "    .dataframe thead th {\n",
       "        text-align: right;\n",
       "    }\n",
       "</style>\n",
       "<table border=\"1\" class=\"dataframe\">\n",
       "  <thead>\n",
       "    <tr style=\"text-align: right;\">\n",
       "      <th></th>\n",
       "      <th>n_restaurants</th>\n",
       "    </tr>\n",
       "    <tr>\n",
       "      <th>BORO</th>\n",
       "      <th></th>\n",
       "    </tr>\n",
       "  </thead>\n",
       "  <tbody>\n",
       "    <tr>\n",
       "      <th>Bronx</th>\n",
       "      <td>18089</td>\n",
       "    </tr>\n",
       "    <tr>\n",
       "      <th>Brooklyn</th>\n",
       "      <td>51866</td>\n",
       "    </tr>\n",
       "    <tr>\n",
       "      <th>Manhattan</th>\n",
       "      <td>72498</td>\n",
       "    </tr>\n",
       "    <tr>\n",
       "      <th>Queens</th>\n",
       "      <td>45922</td>\n",
       "    </tr>\n",
       "    <tr>\n",
       "      <th>Staten Island</th>\n",
       "      <td>6270</td>\n",
       "    </tr>\n",
       "  </tbody>\n",
       "</table>\n",
       "</div>"
      ],
      "text/plain": [
       "               n_restaurants\n",
       "BORO                        \n",
       "Bronx                  18089\n",
       "Brooklyn               51866\n",
       "Manhattan              72498\n",
       "Queens                 45922\n",
       "Staten Island           6270"
      ]
     },
     "execution_count": 40,
     "metadata": {},
     "output_type": "execute_result"
    }
   ],
   "source": [
    "df_totals = df_grade.groupby(by='BORO').sum('n_restaurants')\n",
    "df_totals.head(8)"
   ]
  },
  {
   "cell_type": "code",
   "execution_count": 39,
   "metadata": {},
   "outputs": [
    {
     "data": {
      "text/html": [
       "<div>\n",
       "<style scoped>\n",
       "    .dataframe tbody tr th:only-of-type {\n",
       "        vertical-align: middle;\n",
       "    }\n",
       "\n",
       "    .dataframe tbody tr th {\n",
       "        vertical-align: top;\n",
       "    }\n",
       "\n",
       "    .dataframe thead th {\n",
       "        text-align: right;\n",
       "    }\n",
       "</style>\n",
       "<table border=\"1\" class=\"dataframe\">\n",
       "  <thead>\n",
       "    <tr style=\"text-align: right;\">\n",
       "      <th></th>\n",
       "      <th>BORO</th>\n",
       "      <th>n_restaurants_total</th>\n",
       "      <th>n_restaurants_A</th>\n",
       "      <th>grade_A</th>\n",
       "    </tr>\n",
       "  </thead>\n",
       "  <tbody>\n",
       "    <tr>\n",
       "      <th>1</th>\n",
       "      <td>Brooklyn</td>\n",
       "      <td>51866</td>\n",
       "      <td>36843</td>\n",
       "      <td>0.710350</td>\n",
       "    </tr>\n",
       "    <tr>\n",
       "      <th>3</th>\n",
       "      <td>Queens</td>\n",
       "      <td>45922</td>\n",
       "      <td>32871</td>\n",
       "      <td>0.715801</td>\n",
       "    </tr>\n",
       "    <tr>\n",
       "      <th>0</th>\n",
       "      <td>Bronx</td>\n",
       "      <td>18089</td>\n",
       "      <td>13313</td>\n",
       "      <td>0.735972</td>\n",
       "    </tr>\n",
       "    <tr>\n",
       "      <th>2</th>\n",
       "      <td>Manhattan</td>\n",
       "      <td>72498</td>\n",
       "      <td>54650</td>\n",
       "      <td>0.753814</td>\n",
       "    </tr>\n",
       "    <tr>\n",
       "      <th>4</th>\n",
       "      <td>Staten Island</td>\n",
       "      <td>6270</td>\n",
       "      <td>4891</td>\n",
       "      <td>0.780064</td>\n",
       "    </tr>\n",
       "  </tbody>\n",
       "</table>\n",
       "</div>"
      ],
      "text/plain": [
       "            BORO  n_restaurants_total  n_restaurants_A   grade_A\n",
       "1       Brooklyn                51866            36843  0.710350\n",
       "3         Queens                45922            32871  0.715801\n",
       "0          Bronx                18089            13313  0.735972\n",
       "2      Manhattan                72498            54650  0.753814\n",
       "4  Staten Island                 6270             4891  0.780064"
      ]
     },
     "execution_count": 39,
     "metadata": {},
     "output_type": "execute_result"
    }
   ],
   "source": [
    "df_totals = df_totals.merge(df_grade_A[['BORO', 'n_restaurants']], on='BORO', how='inner',\n",
    "                            suffixes=('_total', '_A'))\n",
    "\n",
    "df_grade_A = df_grade.query(\"GRADE == 'A'\")\n",
    "df_totals['grade_A'] = df_totals['n_restaurants_A'] / df_totals['n_restaurants_total']\n",
    "\n",
    "df_totals.sort_values(by='grade_A').head()"
   ]
  },
  {
   "attachments": {},
   "cell_type": "markdown",
   "metadata": {},
   "source": [
    "### Borough cuisines\n",
    "Which cuisines are more common in each borough? We'll start by looking at how many unique cuisines there are."
   ]
  },
  {
   "cell_type": "code",
   "execution_count": 43,
   "metadata": {},
   "outputs": [
    {
     "name": "stdout",
     "output_type": "stream",
     "text": [
      " * sqlite:///nyc_inspections.db\n",
      "Done.\n"
     ]
    },
    {
     "data": {
      "text/html": [
       "<table>\n",
       "    <thead>\n",
       "        <tr>\n",
       "            <th>COUNT(DISTINCT cuisdesc)</th>\n",
       "        </tr>\n",
       "    </thead>\n",
       "    <tbody>\n",
       "        <tr>\n",
       "            <td>87</td>\n",
       "        </tr>\n",
       "    </tbody>\n",
       "</table>"
      ],
      "text/plain": [
       "[(87,)]"
      ]
     },
     "execution_count": 43,
     "metadata": {},
     "output_type": "execute_result"
    }
   ],
   "source": [
    "%%sql\n",
    "SELECT COUNT(DISTINCT cuisdesc)\n",
    "FROM restaurants\n",
    "LIMIT 5;"
   ]
  },
  {
   "attachments": {},
   "cell_type": "markdown",
   "metadata": {},
   "source": [
    "That's a lot of different cuisines. Let's limit our analysis to the top 5 in each borough. We'll also limit the results to grade A restaurants. To do this we'll have to join the `restaurants` and `has_grade` tables again."
   ]
  },
  {
   "cell_type": "code",
   "execution_count": 46,
   "metadata": {},
   "outputs": [
    {
     "name": "stdout",
     "output_type": "stream",
     "text": [
      " * sqlite:///nyc_inspections.db\n",
      "Done.\n"
     ]
    },
    {
     "data": {
      "text/html": [
       "<table>\n",
       "    <thead>\n",
       "        <tr>\n",
       "            <th>CAMIS</th>\n",
       "            <th>DBA</th>\n",
       "            <th>CUISDESC</th>\n",
       "            <th>ZIPCODE</th>\n",
       "            <th>BORO</th>\n",
       "            <th>Latitude</th>\n",
       "            <th>Longitude</th>\n",
       "        </tr>\n",
       "    </thead>\n",
       "    <tbody>\n",
       "        <tr>\n",
       "            <td>50125332</td>\n",
       "            <td>None</td>\n",
       "            <td>None</td>\n",
       "            <td>11103</td>\n",
       "            <td>Queens</td>\n",
       "            <td>40.766568442385</td>\n",
       "            <td>-73.905123532108</td>\n",
       "        </tr>\n",
       "        <tr>\n",
       "            <td>50113608</td>\n",
       "            <td>BIRDIES HOT CHICKEN</td>\n",
       "            <td>None</td>\n",
       "            <td>11211</td>\n",
       "            <td>Brooklyn</td>\n",
       "            <td>40.71190313079</td>\n",
       "            <td>-73.941113998372</td>\n",
       "        </tr>\n",
       "        <tr>\n",
       "            <td>50132947</td>\n",
       "            <td>None</td>\n",
       "            <td>None</td>\n",
       "            <td>11235</td>\n",
       "            <td>Brooklyn</td>\n",
       "            <td>40.584915043468</td>\n",
       "            <td>-73.951033402941</td>\n",
       "        </tr>\n",
       "        <tr>\n",
       "            <td>50131641</td>\n",
       "            <td>None</td>\n",
       "            <td>None</td>\n",
       "            <td>11385</td>\n",
       "            <td>Queens</td>\n",
       "            <td>40.700198634374</td>\n",
       "            <td>-73.90680880349</td>\n",
       "        </tr>\n",
       "        <tr>\n",
       "            <td>50107034</td>\n",
       "            <td>POPYE&#x27;S</td>\n",
       "            <td>None</td>\n",
       "            <td>11691</td>\n",
       "            <td>Queens</td>\n",
       "            <td>40.596422966153</td>\n",
       "            <td>-73.754162918486</td>\n",
       "        </tr>\n",
       "    </tbody>\n",
       "</table>"
      ],
      "text/plain": [
       "[(50125332, None, None, 11103, 'Queens', 40.766568442385, -73.905123532108),\n",
       " (50113608, 'BIRDIES HOT CHICKEN', None, 11211, 'Brooklyn', 40.71190313079, -73.941113998372),\n",
       " (50132947, None, None, 11235, 'Brooklyn', 40.584915043468, -73.951033402941),\n",
       " (50131641, None, None, 11385, 'Queens', 40.700198634374, -73.90680880349),\n",
       " (50107034, \"POPYE'S\", None, 11691, 'Queens', 40.596422966153, -73.754162918486)]"
      ]
     },
     "execution_count": 46,
     "metadata": {},
     "output_type": "execute_result"
    }
   ],
   "source": [
    "%%sql\n",
    "SELECT * FROM restaurants\n",
    "LIMIT 5;"
   ]
  },
  {
   "cell_type": "code",
   "execution_count": 47,
   "metadata": {},
   "outputs": [
    {
     "name": "stdout",
     "output_type": "stream",
     "text": [
      " * sqlite:///nyc_inspections.db\n",
      "Done.\n"
     ]
    },
    {
     "data": {
      "text/html": [
       "<table>\n",
       "    <thead>\n",
       "        <tr>\n",
       "            <th>CAMIS</th>\n",
       "            <th>lastinspection</th>\n",
       "            <th>GRADE</th>\n",
       "            <th>SCORE</th>\n",
       "            <th>VIOLCODE</th>\n",
       "        </tr>\n",
       "    </thead>\n",
       "    <tbody>\n",
       "        <tr>\n",
       "            <td>30075445</td>\n",
       "            <td>2023-02-03 00:00:00</td>\n",
       "            <td>Z</td>\n",
       "            <td>13.0</td>\n",
       "            <td>02G</td>\n",
       "        </tr>\n",
       "        <tr>\n",
       "            <td>30112340</td>\n",
       "            <td>2022-07-13 00:00:00</td>\n",
       "            <td>A</td>\n",
       "            <td>11.0</td>\n",
       "            <td>10F</td>\n",
       "        </tr>\n",
       "        <tr>\n",
       "            <td>30191841</td>\n",
       "            <td>2022-01-04 00:00:00</td>\n",
       "            <td>A</td>\n",
       "            <td>12.0</td>\n",
       "            <td>10F</td>\n",
       "        </tr>\n",
       "        <tr>\n",
       "            <td>40356018</td>\n",
       "            <td>2022-02-01 00:00:00</td>\n",
       "            <td>A</td>\n",
       "            <td>7.0</td>\n",
       "            <td>02G</td>\n",
       "        </tr>\n",
       "        <tr>\n",
       "            <td>40356483</td>\n",
       "            <td>2022-08-19 00:00:00</td>\n",
       "            <td>A</td>\n",
       "            <td>2.0</td>\n",
       "            <td>10F</td>\n",
       "        </tr>\n",
       "    </tbody>\n",
       "</table>"
      ],
      "text/plain": [
       "[(30075445, '2023-02-03 00:00:00', 'Z', 13.0, '02G'),\n",
       " (30112340, '2022-07-13 00:00:00', 'A', 11.0, '10F'),\n",
       " (30191841, '2022-01-04 00:00:00', 'A', 12.0, '10F'),\n",
       " (40356018, '2022-02-01 00:00:00', 'A', 7.0, '02G'),\n",
       " (40356483, '2022-08-19 00:00:00', 'A', 2.0, '10F')]"
      ]
     },
     "execution_count": 47,
     "metadata": {},
     "output_type": "execute_result"
    }
   ],
   "source": [
    "%%sql\n",
    "SELECT * FROM has_grade\n",
    "LIMIT 5;"
   ]
  },
  {
   "cell_type": "code",
   "execution_count": 54,
   "metadata": {},
   "outputs": [
    {
     "name": "stdout",
     "output_type": "stream",
     "text": [
      " * sqlite:///nyc_inspections.db\n",
      "Done.\n"
     ]
    },
    {
     "data": {
      "text/html": [
       "<table>\n",
       "    <thead>\n",
       "        <tr>\n",
       "            <th>CAMIS</th>\n",
       "            <th>BORO</th>\n",
       "            <th>CUISDESC</th>\n",
       "            <th>GRADE</th>\n",
       "        </tr>\n",
       "    </thead>\n",
       "    <tbody>\n",
       "        <tr>\n",
       "            <td>30112340</td>\n",
       "            <td>Brooklyn</td>\n",
       "            <td>Hamburgers</td>\n",
       "            <td>A</td>\n",
       "        </tr>\n",
       "        <tr>\n",
       "            <td>30191841</td>\n",
       "            <td>Manhattan</td>\n",
       "            <td>Irish</td>\n",
       "            <td>A</td>\n",
       "        </tr>\n",
       "        <tr>\n",
       "            <td>40356018</td>\n",
       "            <td>Brooklyn</td>\n",
       "            <td>American</td>\n",
       "            <td>A</td>\n",
       "        </tr>\n",
       "        <tr>\n",
       "            <td>40356483</td>\n",
       "            <td>Brooklyn</td>\n",
       "            <td>Sandwiches</td>\n",
       "            <td>A</td>\n",
       "        </tr>\n",
       "        <tr>\n",
       "            <td>40356731</td>\n",
       "            <td>Brooklyn</td>\n",
       "            <td>Frozen Desserts</td>\n",
       "            <td>A</td>\n",
       "        </tr>\n",
       "    </tbody>\n",
       "</table>"
      ],
      "text/plain": [
       "[(30112340, 'Brooklyn', 'Hamburgers', 'A'),\n",
       " (30191841, 'Manhattan', 'Irish', 'A'),\n",
       " (40356018, 'Brooklyn', 'American', 'A'),\n",
       " (40356483, 'Brooklyn', 'Sandwiches', 'A'),\n",
       " (40356731, 'Brooklyn', 'Frozen Desserts', 'A')]"
      ]
     },
     "execution_count": 54,
     "metadata": {},
     "output_type": "execute_result"
    }
   ],
   "source": [
    "%%sql\n",
    "SELECT DISTINCT has_grade.camis, boro, cuisdesc, grade\n",
    "FROM restaurants\n",
    "JOIN has_grade\n",
    "ON restaurants.camis == has_grade.camis\n",
    "WHERE grade = 'A'\n",
    "LIMIT 5;"
   ]
  },
  {
   "cell_type": "code",
   "execution_count": 57,
   "metadata": {},
   "outputs": [
    {
     "name": "stdout",
     "output_type": "stream",
     "text": [
      " * sqlite:///nyc_inspections.db\n",
      "Done.\n"
     ]
    },
    {
     "data": {
      "text/html": [
       "<table>\n",
       "    <thead>\n",
       "        <tr>\n",
       "            <th>CAMIS</th>\n",
       "            <th>BORO</th>\n",
       "            <th>CUISDESC</th>\n",
       "            <th>GRADE</th>\n",
       "        </tr>\n",
       "    </thead>\n",
       "    <tbody>\n",
       "        <tr>\n",
       "            <td>40368026</td>\n",
       "            <td>Bronx</td>\n",
       "            <td>African</td>\n",
       "            <td>A</td>\n",
       "        </tr>\n",
       "        <tr>\n",
       "            <td>40357217</td>\n",
       "            <td>Bronx</td>\n",
       "            <td>American</td>\n",
       "            <td>A</td>\n",
       "        </tr>\n",
       "        <tr>\n",
       "            <td>50039683</td>\n",
       "            <td>Bronx</td>\n",
       "            <td>Asian/Asian Fusion</td>\n",
       "            <td>A</td>\n",
       "        </tr>\n",
       "        <tr>\n",
       "            <td>50063156</td>\n",
       "            <td>Bronx</td>\n",
       "            <td>Bagels/Pretzels</td>\n",
       "            <td>A</td>\n",
       "        </tr>\n",
       "        <tr>\n",
       "            <td>40394761</td>\n",
       "            <td>Bronx</td>\n",
       "            <td>Bakery Products/Desserts</td>\n",
       "            <td>A</td>\n",
       "        </tr>\n",
       "    </tbody>\n",
       "</table>"
      ],
      "text/plain": [
       "[(40368026, 'Bronx', 'African', 'A'),\n",
       " (40357217, 'Bronx', 'American', 'A'),\n",
       " (50039683, 'Bronx', 'Asian/Asian Fusion', 'A'),\n",
       " (50063156, 'Bronx', 'Bagels/Pretzels', 'A'),\n",
       " (40394761, 'Bronx', 'Bakery Products/Desserts', 'A')]"
      ]
     },
     "execution_count": 57,
     "metadata": {},
     "output_type": "execute_result"
    }
   ],
   "source": [
    "%%sql\n",
    "SELECT DISTINCT has_grade.camis, boro, cuisdesc, grade\n",
    "FROM restaurants\n",
    "JOIN has_grade\n",
    "ON restaurants.camis == has_grade.camis\n",
    "WHERE grade = 'A' AND boro != 0\n",
    "GROUP BY boro, cuisdesc\n",
    "LIMIT 5;"
   ]
  },
  {
   "cell_type": "code",
   "execution_count": 58,
   "metadata": {},
   "outputs": [],
   "source": [
    "# TODO: use CTE to aggregate by borough and cuisine to get restaurant # sums"
   ]
  },
  {
   "cell_type": "code",
   "execution_count": null,
   "metadata": {},
   "outputs": [],
   "source": []
  }
 ],
 "metadata": {
  "kernelspec": {
   "display_name": "Python 3 (ipykernel)",
   "language": "python",
   "name": "python3"
  },
  "language_info": {
   "codemirror_mode": {
    "name": "ipython",
    "version": 3
   },
   "file_extension": ".py",
   "mimetype": "text/x-python",
   "name": "python",
   "nbconvert_exporter": "python",
   "pygments_lexer": "ipython3",
   "version": "3.10.11"
  }
 },
 "nbformat": 4,
 "nbformat_minor": 4
}
